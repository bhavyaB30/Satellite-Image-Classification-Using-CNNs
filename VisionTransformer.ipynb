{
  "nbformat": 4,
  "nbformat_minor": 0,
  "metadata": {
    "colab": {
      "provenance": []
    },
    "kernelspec": {
      "name": "python3",
      "display_name": "Python 3"
    },
    "language_info": {
      "name": "python"
    }
  },
  "cells": [
    {
      "cell_type": "code",
      "execution_count": null,
      "metadata": {
        "id": "9nU_dueQe02w"
      },
      "outputs": [],
      "source": [
        "!pip install tensorflow"
      ]
    },
    {
      "cell_type": "code",
      "source": [
        "import tensorflow as tf\n",
        "from tensorflow import keras\n",
        "from tensorflow.keras import layers, models\n",
        "import tensorflow_datasets as tfds\n"
      ],
      "metadata": {
        "id": "nECCdIAVfdez"
      },
      "execution_count": null,
      "outputs": []
    },
    {
      "cell_type": "code",
      "source": [
        "IMG_SIZE = 64\n",
        "BATCH_SIZE = 16\n",
        "\n",
        "def preprocess_image(image, label):\n",
        "    image = tf.image.resize(image, (IMG_SIZE, IMG_SIZE))\n",
        "    image = tf.cast(image, tf.float32) / 255.0\n",
        "    return image, label\n",
        "\n",
        "train_ds = train_ds.map(preprocess_image).batch(BATCH_SIZE).prefetch(tf.data.AUTOTUNE)\n",
        "val_ds = val_ds.map(preprocess_image).batch(BATCH_SIZE).prefetch(tf.data.AUTOTUNE)\n",
        "test_ds = test_ds.map(preprocess_image).batch(BATCH_SIZE).prefetch(tf.data.AUTOTUNE)"
      ],
      "metadata": {
        "id": "LRnezRARfdhq"
      },
      "execution_count": null,
      "outputs": []
    },
    {
      "cell_type": "code",
      "source": [
        "class VisionTransformer(models.Model):\n",
        "    def __init__(self, num_classes, image_size=IMG_SIZE, patch_size=6, num_layers=8,\n",
        "                 d_model=64, num_heads=4, mlp_dim=128, dropout=0.1):\n",
        "        super(VisionTransformer, self).__init__()\n",
        "        self.num_patches = (image_size // patch_size) ** 2\n",
        "        self.patch_dim = 3 * patch_size * patch_size\n",
        "        self.patch_size = patch_size\n",
        "\n",
        "        self.flatten_patches = layers.Reshape((self.num_patches, self.patch_dim))\n",
        "        self.projection = layers.Dense(d_model)\n",
        "        self.position_embedding = layers.Embedding(input_dim=self.num_patches, output_dim=d_model)\n",
        "\n",
        "        self.transformer_layers = [\n",
        "            layers.TransformerBlock(d_model, num_heads, mlp_dim, dropout)\n",
        "            for _ in range(num_layers)\n",
        "        ]\n",
        "        self.mlp_head = models.Sequential([\n",
        "            layers.LayerNormalization(epsilon=1e-6),\n",
        "            layers.GlobalAveragePooling1D(),\n",
        "            layers.Dense(mlp_dim, activation='relu'),\n",
        "            layers.Dropout(dropout),\n",
        "            layers.Dense(num_classes)\n",
        "        ])\n",
        "\n",
        "    def call(self, inputs):\n",
        "        batch_size = tf.shape(inputs)[0]\n",
        "        patches = tf.image.extract_patches(\n",
        "            images=inputs,\n",
        "            sizes=[1, self.patch_size, self.patch_size, 1],\n",
        "            strides=[1, self.patch_size, self.patch_size, 1],\n",
        "            rates=[1, 1, 1, 1],\n",
        "            padding='VALID'\n",
        "        )\n",
        "        patches = self.flatten_patches(patches)\n",
        "        x = self.projection(patches)\n",
        "        positions = tf.range(start=0, limit=self.num_patches, delta=1)\n",
        "        x += self.position_embedding(positions)\n",
        "\n",
        "        for transformer_layer in self.transformer_layers:\n",
        "            x = transformer_layer(x)\n",
        "\n",
        "        return self.mlp_head(x)"
      ],
      "metadata": {
        "id": "GWA7n30kfdka"
      },
      "execution_count": null,
      "outputs": []
    },
    {
      "cell_type": "code",
      "source": [
        "def mlp(x, hidden_units, dropout_rate):\n",
        "    for units in hidden_units:\n",
        "        x = layers.Dense(units, activation=keras.activations.gelu)(x)\n",
        "        x = layers.Dropout(dropout_rate)(x)\n",
        "    return x"
      ],
      "metadata": {
        "id": "TD5bRg0dfdnI"
      },
      "execution_count": null,
      "outputs": []
    },
    {
      "cell_type": "code",
      "source": [
        "import keras\n",
        "from keras import layers\n",
        "from keras import ops"
      ],
      "metadata": {
        "id": "knTTeQ3Vfdpf"
      },
      "execution_count": null,
      "outputs": []
    },
    {
      "cell_type": "code",
      "source": [
        "class Patches(layers.Layer):\n",
        "    def __init__(self, patch_size):\n",
        "        super().__init__()\n",
        "        self.patch_size = patch_size\n",
        "\n",
        "    def call(self, images):\n",
        "        input_shape = ops.shape(images)\n",
        "        batch_size = input_shape[0]\n",
        "        height = input_shape[1]\n",
        "        width = input_shape[2]\n",
        "        channels = input_shape[3]\n",
        "        num_patches_h = height // self.patch_size\n",
        "        num_patches_w = width // self.patch_size\n",
        "        patches = keras.ops.image.extract_patches(images, size=self.patch_size)\n",
        "        patches = ops.reshape(\n",
        "            patches,\n",
        "            (\n",
        "                batch_size,\n",
        "                num_patches_h * num_patches_w,\n",
        "                self.patch_size * self.patch_size * channels,\n",
        "            ),\n",
        "        )\n",
        "        return patches\n",
        "\n",
        "    def get_config(self):\n",
        "        config = super().get_config()\n",
        "        config.update({\"patch_size\": self.patch_size})\n",
        "        return config\n"
      ],
      "metadata": {
        "id": "e1tYtJYXfdr7"
      },
      "execution_count": null,
      "outputs": []
    },
    {
      "cell_type": "code",
      "source": [
        "image_size= 64\n",
        "num_classes = 10\n",
        "input_shape = (64, 64, 3)\n",
        "patch_size= 6"
      ],
      "metadata": {
        "id": "IIlnKJs5fdum"
      },
      "execution_count": null,
      "outputs": []
    },
    {
      "cell_type": "code",
      "source": [
        "sample_batch = next(iter(train_ds))\n",
        "sample_images, _ = sample_batch\n",
        "\n",
        "sample_images = sample_images.numpy()\n",
        "\n",
        "random_index = np.random.randint(0, sample_images.shape[0])\n",
        "image = sample_images[random_index]"
      ],
      "metadata": {
        "id": "nyZ4HNC9f1vF"
      },
      "execution_count": null,
      "outputs": []
    },
    {
      "cell_type": "code",
      "source": [
        "import matplotlib.pyplot as plt\n",
        "import numpy as np\n",
        "plt.figure(figsize=(4, 4))\n",
        "plt.imshow((image*255).astype(\"uint8\"))\n",
        "plt.axis(\"off\")\n",
        "\n",
        "resized_image = ops.image.resize(\n",
        "    ops.convert_to_tensor([image]), size=(image_size, image_size)\n",
        ")\n",
        "patches = Patches(patch_size)(resized_image)\n",
        "print(f\"Image size: {image_size} X {image_size}\")\n",
        "print(f\"Patch size: {patch_size} X {patch_size}\")\n",
        "print(f\"Patches per image: {patches.shape[1]}\")\n",
        "print(f\"Elements per patch: {patches.shape[-1]}\")\n",
        "\n",
        "n = int(np.sqrt(patches.shape[1]))\n",
        "plt.figure(figsize=(4, 4))\n",
        "for i, patch in enumerate(patches[0]):\n",
        "    ax = plt.subplot(n, n, i + 1)\n",
        "    patch_img = ops.reshape(patch, (patch_size, patch_size, 3))\n",
        "    plt.imshow(ops.convert_to_numpy(patch_img*255).astype(\"uint8\"))\n",
        "    plt.axis(\"off\")"
      ],
      "metadata": {
        "id": "xX4xY8Znf1x9"
      },
      "execution_count": null,
      "outputs": []
    },
    {
      "cell_type": "code",
      "source": [
        "class PatchEncoder(layers.Layer):\n",
        "    def __init__(self, num_patches, projection_dim):\n",
        "        super().__init__()\n",
        "        self.num_patches = num_patches\n",
        "        self.projection = layers.Dense(units=projection_dim)\n",
        "        self.position_embedding = layers.Embedding(\n",
        "            input_dim=num_patches, output_dim=projection_dim\n",
        "        )\n",
        "\n",
        "    def call(self, patch):\n",
        "        positions = ops.expand_dims(\n",
        "            ops.arange(start=0, stop=self.num_patches, step=1), axis=0\n",
        "        )\n",
        "        projected_patches = self.projection(patch)\n",
        "        encoded = projected_patches + self.position_embedding(positions)\n",
        "        return encoded\n",
        "\n",
        "    def get_config(self):\n",
        "        config = super().get_config()\n",
        "        config.update({\"num_patches\": self.num_patches})\n",
        "        return config"
      ],
      "metadata": {
        "id": "B19TK5mUf10p"
      },
      "execution_count": null,
      "outputs": []
    },
    {
      "cell_type": "code",
      "source": [
        "def create_vit_classifier():\n",
        "    inputs = keras.Input(shape=input_shape)\n",
        "    # Augment data.\n",
        "    augmented = data_augmentation(inputs)\n",
        "    # Create patches.\n",
        "    patches = Patches(patch_size)(augmented)\n",
        "    # Encode patches.\n",
        "    encoded_patches = PatchEncoder(num_patches, projection_dim)(patches)\n",
        "\n",
        "    # Create multiple layers of the Transformer block.\n",
        "    for _ in range(transformer_layers):\n",
        "        # Layer normalization 1.\n",
        "        x1 = layers.LayerNormalization(epsilon=1e-6)(encoded_patches)\n",
        "        # Create a multi-head attention layer.\n",
        "        attention_output = layers.MultiHeadAttention(\n",
        "            num_heads=num_heads, key_dim=projection_dim, dropout=0.1\n",
        "        )(x1, x1)\n",
        "        # Skip connection 1.\n",
        "        x2 = layers.Add()([attention_output, encoded_patches])\n",
        "        # Layer normalization 2.\n",
        "        x3 = layers.LayerNormalization(epsilon=1e-6)(x2)\n",
        "        # MLP.\n",
        "        x3 = mlp(x3, hidden_units=transformer_units, dropout_rate=0.1)\n",
        "        # Skip connection 2.\n",
        "        encoded_patches = layers.Add()([x3, x2])\n",
        "\n",
        "    # Create a [batch_size, projection_dim] tensor.\n",
        "    representation = layers.LayerNormalization(epsilon=1e-6)(encoded_patches)\n",
        "    representation = layers.Flatten()(representation)\n",
        "    representation = layers.Dropout(0.5)(representation)\n",
        "    # Add MLP.\n",
        "    features = mlp(representation, hidden_units=mlp_head_units, dropout_rate=0.5)\n",
        "    # Classify outputs.\n",
        "    logits = layers.Dense(num_classes)(features)\n",
        "    # Create the Keras model.\n",
        "    model = keras.Model(inputs=inputs, outputs=logits)\n",
        "    return model"
      ],
      "metadata": {
        "id": "mk1LTm9df13S"
      },
      "execution_count": null,
      "outputs": []
    },
    {
      "cell_type": "code",
      "source": [
        "import tensorflow as tf\n",
        "from tensorflow.keras.layers import RandomFlip, RandomRotation, RandomZoom\n",
        "\n",
        "data_augmentation = tf.keras.Sequential([\n",
        "    RandomFlip(\"horizontal\"),\n",
        "    RandomRotation(0.2),\n",
        "    RandomZoom(0.2),\n",
        "])"
      ],
      "metadata": {
        "id": "X0Bo65-If15t"
      },
      "execution_count": null,
      "outputs": []
    },
    {
      "cell_type": "code",
      "source": [
        "train_dataset = train_ds.map(lambda x, y: (data_augmentation(x, training=True), y))\n",
        "val_dataset = val_ds.map(lambda x, y: (data_augmentation(x, training=True), y))\n",
        "test_dataset = test_ds.map(lambda x, y: (data_augmentation(x, training=True), y))"
      ],
      "metadata": {
        "id": "jtLj-ZVUf18f"
      },
      "execution_count": null,
      "outputs": []
    },
    {
      "cell_type": "code",
      "source": [
        "dataset1, info1 = tfds.load(\"eurosat/rgb\", as_supervised=True, with_info=True)\n",
        "full_ds = dataset1[\"train\"]\n",
        "\n",
        "# Define sizes\n",
        "num_samples = info1.splits[\"train\"].num_examples\n",
        "train_size = int(0.8 * num_samples)  # 80% for training\n",
        "val_size = int(0.1 * num_samples)    # 10% for validation\n",
        "test_size = num_samples - train_size - val_size  # Remaining 10% for test\n",
        "\n",
        "# Split dataset\n",
        "train_ds = full_ds.take(train_size)\n",
        "val_ds = full_ds.skip(train_size).take(val_size)\n",
        "test_ds = full_ds.skip(train_size + val_size)\n",
        "\n",
        "# Function to convert dataset to NumPy arrays\n",
        "def dataset_to_numpy(dataset):\n",
        "    images, labels = [], []\n",
        "    for img, label in dataset:\n",
        "        img = tf.image.resize(img, (64, 64))  # Ensure uniform size (change if needed)\n",
        "        img = tf.image.convert_image_dtype(img, tf.float32)  # Normalize\n",
        "        images.append(img.numpy())  # Convert to NumPy\n",
        "        labels.append(label.numpy())\n",
        "\n",
        "    return np.stack(images), np.array(labels)  # ✅ Ensure correct shape\n",
        "\n",
        "# Convert datasets\n",
        "x_train, y_train = dataset_to_numpy(train_ds)\n",
        "x_val, y_val = dataset_to_numpy(val_ds)\n",
        "x_test, y_test = dataset_to_numpy(test_ds)\n",
        "\n",
        "# Print shapes\n",
        "print(f\"x_train: {x_train.shape}, y_train: {y_train.shape}\")\n",
        "print(f\"x_val: {x_val.shape}, y_val: {y_val.shape}\")\n",
        "print(f\"x_test: {x_test.shape}, y_test: {y_test.shape}\")"
      ],
      "metadata": {
        "id": "DGfVIVfxfdx-"
      },
      "execution_count": null,
      "outputs": []
    },
    {
      "cell_type": "code",
      "source": [
        "learning_rate = 0.001\n",
        "weight_decay = 0.0001\n",
        "num_patches = (image_size // patch_size) ** 2"
      ],
      "metadata": {
        "id": "HwR9N5B-gZdx"
      },
      "execution_count": null,
      "outputs": []
    },
    {
      "cell_type": "code",
      "source": [
        "projection_dim=128\n",
        "transformer_layers=10\n",
        "num_heads=6\n",
        "transformer_units = [\n",
        "    projection_dim * 2,\n",
        "    projection_dim,\n",
        "]\n",
        "mlp_head_units = [\n",
        "    512,\n",
        "    256,\n",
        "]"
      ],
      "metadata": {
        "id": "2CHVZcRzgZgT"
      },
      "execution_count": null,
      "outputs": []
    },
    {
      "cell_type": "code",
      "source": [
        "def run_experiment(model):\n",
        "    optimizer = keras.optimizers.AdamW(\n",
        "        learning_rate=learning_rate, weight_decay=weight_decay\n",
        "    )\n",
        "\n",
        "    model.compile(\n",
        "        optimizer=optimizer,\n",
        "        loss=keras.losses.SparseCategoricalCrossentropy(from_logits=True),\n",
        "        metrics=[\n",
        "            keras.metrics.SparseCategoricalAccuracy(name=\"accuracy\"),\n",
        "            keras.metrics.SparseTopKCategoricalAccuracy(5, name=\"top-5-accuracy\"),\n",
        "        ],\n",
        "    )\n",
        "\n",
        "    checkpoint_filepath = \"/tmp/checkpoint.weights.h5\"\n",
        "    checkpoint_callback = keras.callbacks.ModelCheckpoint(\n",
        "        checkpoint_filepath,\n",
        "        monitor=\"val_accuracy\",\n",
        "        save_best_only=True,\n",
        "        save_weights_only=True,\n",
        "    )\n",
        "\n",
        "    history = model.fit(\n",
        "        x=x_train,\n",
        "        y=y_train,\n",
        "        batch_size=16,\n",
        "        epochs=20,\n",
        "        validation_split=0.1,\n",
        "        callbacks=[checkpoint_callback],\n",
        "    )\n",
        "\n",
        "    model.load_weights(checkpoint_filepath)\n",
        "    _, accuracy, top_5_accuracy = model.evaluate(x_test, y_test)\n",
        "    print(f\"Test accuracy: {round(accuracy * 100, 2)}%\")\n",
        "    print(f\"Test top 5 accuracy: {round(top_5_accuracy * 100, 2)}%\")\n",
        "\n",
        "    return history\n",
        "\n",
        "\n",
        "vit_classifier = create_vit_classifier()\n",
        "history = run_experiment(vit_classifier)\n",
        "\n",
        "\n",
        "def plot_history(item):\n",
        "    plt.plot(history.history[item], label=item)\n",
        "    plt.plot(history.history[\"val_\" + item], label=\"val_\" + item)\n",
        "    plt.xlabel(\"Epochs\")\n",
        "    plt.ylabel(item)\n",
        "    plt.title(\"Train and Validation {} Over Epochs\".format(item), fontsize=14)\n",
        "    plt.legend()\n",
        "    plt.grid()\n",
        "    plt.show()\n",
        "\n",
        "\n",
        "plot_history(\"loss\")\n",
        "plot_history(\"top-5-accuracy\")\n",
        "plot_history(\"accuracy\")"
      ],
      "metadata": {
        "id": "RRh9pZg7gZiz"
      },
      "execution_count": null,
      "outputs": []
    },
    {
      "cell_type": "code",
      "source": [
        "vit_classifier.save(\"/content/drive/My Drive/VITWEIGHTS.h5\")"
      ],
      "metadata": {
        "id": "K5ijKtMcgZk7"
      },
      "execution_count": null,
      "outputs": []
    },
    {
      "cell_type": "code",
      "source": [],
      "metadata": {
        "id": "imlaE4hvEEwd"
      },
      "execution_count": null,
      "outputs": []
    }
  ]
}